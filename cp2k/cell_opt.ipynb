{
 "cells": [
  {
   "cell_type": "markdown",
   "metadata": {},
   "source": [
    "# Cell Optimization"
   ]
  },
  {
   "cell_type": "code",
   "execution_count": null,
   "metadata": {},
   "outputs": [],
   "source": [
    "from __future__ import print_function\n",
    "\n",
    "from aiida import load_dbenv, is_dbenv_loaded\n",
    "from aiida.backends import settings\n",
    "if not is_dbenv_loaded():\n",
    "    load_dbenv(profile=settings.AIIDADB_PROFILE)\n",
    "\n",
    "from aiida.orm.querybuilder import QueryBuilder\n",
    "from aiida.orm.data.structure import StructureData\n",
    "from aiida.orm.calculation import Calculation\n",
    "\n",
    "import ase.io\n",
    "from ase.lattice.cubic import FaceCenteredCubic\n",
    "from ase.build import bulk\n",
    "\n",
    "from apps.calcexamples.structure_browser import StructureBrowser\n",
    "\n",
    "\n",
    "import numpy as np\n",
    "import ipywidgets as ipw\n",
    "from base64 import b64decode\n",
    "from IPython.display import display, clear_output, Image\n",
    "from fileupload import FileUploadWidget\n",
    "\n",
    "import nglview"
   ]
  },
  {
   "cell_type": "code",
   "execution_count": null,
   "metadata": {},
   "outputs": [],
   "source": [
    "atoms = None\n",
    "structures = [(\"select structure\",{\"status\":False})]\n",
    "\n",
    "layout = ipw.Layout(width=\"400px\")\n",
    "style = {\"description_width\":\"150px\"}\n",
    "\n",
    "viewer = nglview.NGLWidget()\n",
    "clear_output()"
   ]
  },
  {
   "cell_type": "code",
   "execution_count": null,
   "metadata": {},
   "outputs": [],
   "source": [
    "def refresh_structure_view():\n",
    "    global viewer, atoms, node\n",
    "    if hasattr(viewer, \"component_0\"):\n",
    "        #viewer.clear_representations()\n",
    "        viewer.component_0.remove_ball_and_stick()\n",
    "        viewer.component_0.remove_ball_and_stick()\n",
    "        viewer.component_0.remove_ball_and_stick()\n",
    "        viewer.component_0.remove_unitcell()\n",
    "        cid = viewer.component_0.id\n",
    "        viewer.remove_component(cid)\n",
    "\n",
    "    atoms = node.get_ase()\n",
    "    viewer.add_component(nglview.ASEStructure(atoms)) # adds ball+stick\n",
    "    viewer.add_unitcell()\n",
    "    viewer.center_view()"
   ]
  },
  {
   "cell_type": "markdown",
   "metadata": {},
   "source": [
    "## Step 1: Select Structure"
   ]
  },
  {
   "cell_type": "code",
   "execution_count": null,
   "metadata": {},
   "outputs": [],
   "source": [
    "def on_struct_change(c):\n",
    "    global atoms, node\n",
    "    node = struct_browser.results.value\n",
    "    if not node:\n",
    "        return\n",
    "    refresh_structure_view()\n",
    "    cell_params.value = \"Unit cell <br />a = {:.2f} {:.2f} {:.2f} <br />b = {:.2f} {:.2f} {:.2f} <br />c = {:.2f} {:.2f} {:.2f}\".format(\n",
    "        atoms.cell[0][0], atoms.cell[0][1], atoms.cell[0][2],\n",
    "        atoms.cell[1][0], atoms.cell[1][1], atoms.cell[1][2],\n",
    "        atoms.cell[2][0], atoms.cell[2][1], atoms.cell[2][2])\n",
    "\n",
    "    \n",
    "struct_browser = StructureBrowser()\n",
    "struct_browser.results.observe(on_struct_change, names='value')    \n",
    "viewer = nglview.NGLWidget()\n",
    "cell_params = ipw.HTML(\"Cell: \")\n",
    "clear_output()\n",
    "display(ipw.VBox([struct_browser, viewer, cell_params]))"
   ]
  },
  {
   "cell_type": "markdown",
   "metadata": {},
   "source": [
    "## Step 2: Optimize the unit cell"
   ]
  },
  {
   "cell_type": "code",
   "execution_count": null,
   "metadata": {},
   "outputs": [],
   "source": [
    "from aiida.orm import load_node, Code\n",
    "from aiida.orm.data.parameter import ParameterData\n",
    "from aiida.orm.data.upf import get_pseudos_from_structure\n",
    "from aiida.orm.utils import CalculationFactory\n",
    "from aiida.work.run import submit"
   ]
  },
  {
   "cell_type": "code",
   "execution_count": null,
   "metadata": {},
   "outputs": [],
   "source": [
    "def setup_calc():\n",
    "    codename = 'cp2k_6.0_18265@daint-s746'\n",
    "    code = Code.get_from_string(codename)\n",
    "    options =  {'max_wallclock_seconds': 3600, 'resources': {'num_machines': 1}, 'queue_name':'normal'}\n",
    "\n",
    "\n",
    "    parameters = {\n",
    "        'GLOBAL': {\n",
    "            'RUN_TYPE': 'CELL_OPT',\n",
    "        },\n",
    "        'FORCE_EVAL': {\n",
    "            'METHOD': 'Quickstep',\n",
    "            'DFT': {\n",
    "                'BASIS_SET_FILE_NAME': 'BASIS_MOLOPT',\n",
    "                'POTENTIAL_FILE_NAME': 'POTENTIAL',\n",
    "                'QS': {\n",
    "                    'EPS_DEFAULT': 1.0e-12,\n",
    "                    'WF_INTERPOLATION': 'ps',\n",
    "                    'EXTRAPOLATION_ORDER': 3,\n",
    "                },\n",
    "                'MGRID': {\n",
    "                    'NGRIDS': 4,\n",
    "                    'CUTOFF': 280,\n",
    "                    'REL_CUTOFF': 30,\n",
    "                },\n",
    "                'XC': {\n",
    "                    'XC_FUNCTIONAL': {\n",
    "                        '_': 'PBE',\n",
    "                    },\n",
    "                },\n",
    "                'POISSON': {\n",
    "                    'PERIODIC': 'none',\n",
    "                    'PSOLVER': 'MT',\n",
    "                },\n",
    "            },\n",
    "            'SUBSYS': {\n",
    "                'KIND': [{'_': e , 'BASIS_SET': 'DZVP-MOLOPT-SR-GTH','POTENTIAL': 'GTH-PBE'} for e in node.get_kind_names()],\n",
    "            },\n",
    "        }\n",
    "    }\n",
    "\n",
    "    inputs = {\n",
    "        'code': code,\n",
    "        'structure': node,\n",
    "        'parameters': ParameterData(dict=parameters),\n",
    "        'settings': ParameterData(dict={}),\n",
    "        '_options': options,\n",
    "    }\n",
    "    return inputs"
   ]
  },
  {
   "cell_type": "code",
   "execution_count": null,
   "metadata": {},
   "outputs": [],
   "source": [
    "Cp2kCalculation = CalculationFactory('cp2k')"
   ]
  },
  {
   "cell_type": "code",
   "execution_count": null,
   "metadata": {},
   "outputs": [],
   "source": [
    "def on_click_submit(b):\n",
    "    with submit_out:\n",
    "        process = Cp2kCalculation.process()\n",
    "        calculation = submit(process, **setup_calc())\n",
    "        print(\"Submitted calculation N {}\".format(calculation.pid))\n",
    "\n",
    "btn_submit = ipw.Button(description='Submit Cell Opt')\n",
    "btn_submit.on_click(on_click_submit)\n",
    "submit_out = ipw.Output()\n",
    "display(btn_submit, submit_out)"
   ]
  }
 ],
 "metadata": {
  "kernelspec": {
   "display_name": "Python 2",
   "language": "python",
   "name": "python2"
  },
  "language_info": {
   "codemirror_mode": {
    "name": "ipython",
    "version": 2
   },
   "file_extension": ".py",
   "mimetype": "text/x-python",
   "name": "python",
   "nbconvert_exporter": "python",
   "pygments_lexer": "ipython2",
   "version": "2.7.14"
  }
 },
 "nbformat": 4,
 "nbformat_minor": 2
}
