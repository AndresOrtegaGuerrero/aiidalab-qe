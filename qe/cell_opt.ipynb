{
 "cells": [
  {
   "cell_type": "markdown",
   "metadata": {},
   "source": [
    "# Cell Optimization"
   ]
  },
  {
   "cell_type": "code",
   "execution_count": null,
   "metadata": {},
   "outputs": [],
   "source": [
    "from __future__ import print_function\n",
    "\n",
    "from aiida import load_dbenv, is_dbenv_loaded\n",
    "from aiida.backends import settings\n",
    "if not is_dbenv_loaded():\n",
    "    load_dbenv(profile=settings.AIIDADB_PROFILE)\n",
    "\n",
    "from aiida.orm.querybuilder import QueryBuilder\n",
    "from aiida.orm.data.structure import StructureData\n",
    "from aiida.orm.calculation import Calculation\n",
    "\n",
    "import ase.io\n",
    "from ase.lattice.cubic import FaceCenteredCubic\n",
    "from ase.build import bulk\n",
    "\n",
    "from apps.calcexamples.structure_browser import StructureBrowser\n",
    "\n",
    "\n",
    "import numpy as np\n",
    "import ipywidgets as ipw\n",
    "from base64 import b64decode\n",
    "from IPython.display import display, clear_output, Image\n",
    "from fileupload import FileUploadWidget\n",
    "\n",
    "import nglview"
   ]
  },
  {
   "cell_type": "code",
   "execution_count": null,
   "metadata": {},
   "outputs": [],
   "source": [
    "atoms = None\n",
    "node = False\n",
    "structures = [(\"Select a Structure\",{\"status\":False})]\n",
    "\n",
    "layout = ipw.Layout(width=\"400px\")\n",
    "style = {\"description_width\":\"150px\"}\n",
    "\n",
    "viewer = nglview.NGLWidget()\n",
    "clear_output()"
   ]
  },
  {
   "cell_type": "code",
   "execution_count": null,
   "metadata": {},
   "outputs": [],
   "source": [
    "def refresh_structure_view():\n",
    "    global viewer, atoms, node\n",
    "    if hasattr(viewer, \"component_0\"):\n",
    "        #viewer.clear_representations()\n",
    "        viewer.component_0.remove_ball_and_stick()\n",
    "        viewer.component_0.remove_ball_and_stick()\n",
    "        viewer.component_0.remove_ball_and_stick()\n",
    "        viewer.component_0.remove_unitcell()\n",
    "        cid = viewer.component_0.id\n",
    "        viewer.remove_component(cid)\n",
    "    if node is False:\n",
    "        return\n",
    "    atoms = node.get_ase()\n",
    "    viewer.add_component(nglview.ASEStructure(atoms)) # adds ball+stick\n",
    "    viewer.add_unitcell()\n",
    "    viewer.center_view()"
   ]
  },
  {
   "cell_type": "markdown",
   "metadata": {},
   "source": [
    "## Step 1: Select Structure"
   ]
  },
  {
   "cell_type": "code",
   "execution_count": null,
   "metadata": {},
   "outputs": [],
   "source": [
    "def on_struct_change(c):\n",
    "    global atoms, node\n",
    "    node = struct_browser.results.value\n",
    "    refresh_structure_view()\n",
    "    if not node:\n",
    "        return\n",
    "    cell_params.value = \"Unit cell <br />a = {:.2f} {:.2f} {:.2f} <br />b = {:.2f} {:.2f} {:.2f} <br />c = {:.2f} {:.2f} {:.2f}\".format(\n",
    "        atoms.cell[0][0], atoms.cell[0][1], atoms.cell[0][2],\n",
    "        atoms.cell[1][0], atoms.cell[1][1], atoms.cell[1][2],\n",
    "        atoms.cell[2][0], atoms.cell[2][1], atoms.cell[2][2])\n",
    "\n",
    "    \n",
    "struct_browser = StructureBrowser()\n",
    "struct_browser.results.observe(on_struct_change, names='value')    \n",
    "viewer = nglview.NGLWidget()\n",
    "cell_params = ipw.HTML(\"Cell: \")\n",
    "clear_output()\n",
    "display(ipw.VBox([struct_browser, viewer, cell_params]))"
   ]
  },
  {
   "cell_type": "markdown",
   "metadata": {},
   "source": [
    "## Step 2: Optimize the unit cell"
   ]
  },
  {
   "cell_type": "code",
   "execution_count": null,
   "metadata": {},
   "outputs": [],
   "source": [
    "from aiida.orm import load_node, Code\n",
    "from aiida.orm.data.parameter import ParameterData\n",
    "from aiida.orm.data.upf import get_pseudos_from_structure\n",
    "from aiida.orm.utils import CalculationFactory\n",
    "from aiida.work.run import submit\n",
    "from aiida.orm.data.array.kpoints import KpointsData\n"
   ]
  },
  {
   "cell_type": "code",
   "execution_count": null,
   "metadata": {},
   "outputs": [],
   "source": [
    "def setup_calc():\n",
    "    kpoints = KpointsData()\n",
    "    kpoints.set_kpoints_mesh([4,4,4])\n",
    "    options =  {'max_wallclock_seconds': 3600, 'resources': {'num_machines': 1}, 'queue_name':'normal'}\n",
    "\n",
    "\n",
    "    if in_codename.value is None:\n",
    "        print (\"Please select a code\")\n",
    "        return None\n",
    "    if node is False:\n",
    "        print (\"Please select a structure\")\n",
    "        return None\n",
    "    code = Code.get_from_string(in_codename.value)\n",
    "    \n",
    "    parameters = {\n",
    "        'CONTROL': {\n",
    "            'calculation': 'vc-relax',\n",
    "            'restart_mode': 'from_scratch',\n",
    "            'wf_collect': True,\n",
    "        },\n",
    "        'SYSTEM': {\n",
    "            'ecutwfc': 100.,\n",
    "            'ecutrho': 400.,\n",
    "        },\n",
    "        'ELECTRONS': {\n",
    "            'scf_must_converge': False,\n",
    "            'conv_thr': 1.e-6,\n",
    "        },\n",
    "    }\n",
    "\n",
    "    inputs = {\n",
    "        'code': code,\n",
    "        'structure': node,\n",
    "        'pseudo': get_pseudos_from_structure(node, 'SSSP_efficiency_v1.0'),\n",
    "        'kpoints': kpoints,\n",
    "        'parameters': ParameterData(dict=parameters),\n",
    "        'settings': ParameterData(dict={}),\n",
    "        '_options': options,\n",
    "    }\n",
    "    return inputs"
   ]
  },
  {
   "cell_type": "code",
   "execution_count": null,
   "metadata": {},
   "outputs": [],
   "source": [
    "def get_code_options(plugin_classes):\n",
    "    \"\"\"\n",
    "    Return AiiDA codes using a specific set of plugins\n",
    "    \n",
    "    :param plugin_classes: a dictionary of the type\n",
    "      {'pw': 'quantumespresso.pw', 'ph': 'quantumespresso.ph'}\n",
    "      where the key is a label and the value is the plugin to check for.\n",
    "      It will return the set of codes that exist on the same machine.\n",
    "    \"\"\"\n",
    "    from aiida.orm.querybuilder import QueryBuilder\n",
    "    from aiida.orm import Code, Computer\n",
    "    \n",
    "    # TODO: add filter to show only computers configured\n",
    "    # by the current user\n",
    "    \n",
    "    qb = QueryBuilder()\n",
    "    qb.append(Computer,\n",
    "          filters={'enabled': True},\n",
    "          project='name', tag='computer')\n",
    "    ordered_tags = []\n",
    "    for tag, plugin_class in plugin_classes.iteritems():\n",
    "        ordered_tags.append(tag)\n",
    "        qb.append(Code,\n",
    "                  filters={'attributes.input_plugin': {'==': plugin_class}},\n",
    "                  project='label',\n",
    "                  tag='{}code'.format(tag),\n",
    "                  has_computer='computer'\n",
    "                 )\n",
    "    \n",
    "    all_results = qb.all()\n",
    "    return [(\"{}@{}\".format(codename, codeset[0]),\"{}@{}\".format(codename, codeset[0]) )  for codeset in all_results for codename, tag in zip(codeset[1:], ordered_tags)]\n",
    "\n",
    "\n",
    "in_codename = ipw.Dropdown(options= [('Select a Code', None)] + get_code_options({'pw':'quantumespresso.pw'}))"
   ]
  },
  {
   "cell_type": "code",
   "execution_count": null,
   "metadata": {},
   "outputs": [],
   "source": [
    "PwCalculation = CalculationFactory('quantumespresso.pw')"
   ]
  },
  {
   "cell_type": "code",
   "execution_count": null,
   "metadata": {},
   "outputs": [],
   "source": [
    "def on_click_submit(b):\n",
    "    with submit_out:\n",
    "        process = PwCalculation.process()\n",
    "        inputs = setup_calc()\n",
    "        if inputs is None:\n",
    "            pass\n",
    "        else:\n",
    "            calculation = submit(process, **inputs)\n",
    "            print(\"Submitted calculation N {}\".format(calculation.pid))\n",
    "\n",
    "btn_submit = ipw.Button(description='Submit Cell Opt')\n",
    "btn_submit.on_click(on_click_submit)\n",
    "submit_out = ipw.Output()\n",
    "display(ipw.HBox([in_codename,btn_submit]), submit_out)"
   ]
  }
 ],
 "metadata": {
  "kernelspec": {
   "display_name": "Python 2",
   "language": "python",
   "name": "python2"
  },
  "language_info": {
   "codemirror_mode": {
    "name": "ipython",
    "version": 2
   },
   "file_extension": ".py",
   "mimetype": "text/x-python",
   "name": "python",
   "nbconvert_exporter": "python",
   "pygments_lexer": "ipython2",
   "version": "2.7.14"
  }
 },
 "nbformat": 4,
 "nbformat_minor": 2
}
