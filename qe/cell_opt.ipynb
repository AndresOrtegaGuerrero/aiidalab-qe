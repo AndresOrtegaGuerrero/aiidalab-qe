{
 "cells": [
  {
   "cell_type": "markdown",
   "metadata": {},
   "source": [
    "# Upload Structure"
   ]
  },
  {
   "cell_type": "code",
   "execution_count": null,
   "metadata": {},
   "outputs": [],
   "source": [
    "from __future__ import print_function\n",
    "\n",
    "from aiida import load_dbenv, is_dbenv_loaded\n",
    "from aiida.backends import settings\n",
    "if not is_dbenv_loaded():\n",
    "    load_dbenv(profile=settings.AIIDADB_PROFILE)\n",
    "\n",
    "from aiida.orm.querybuilder import QueryBuilder\n",
    "from aiida.orm.data.structure import StructureData\n",
    "from aiida.orm.calculation import Calculation\n",
    "\n",
    "import ase.io\n",
    "from ase.lattice.cubic import FaceCenteredCubic\n",
    "from ase.build import bulk\n",
    "\n",
    "\n",
    "import numpy as np\n",
    "import ipywidgets as ipw\n",
    "from base64 import b64decode\n",
    "from IPython.display import display, clear_output, Image\n",
    "from fileupload import FileUploadWidget\n",
    "\n",
    "import nglview"
   ]
  },
  {
   "cell_type": "code",
   "execution_count": null,
   "metadata": {},
   "outputs": [],
   "source": [
    "atoms = None\n",
    "structures = [(\"select structure\",{\"status\":False})]\n",
    "\n",
    "layout = ipw.Layout(width=\"400px\")\n",
    "style = {\"description_width\":\"150px\"}\n",
    "\n",
    "viewer = nglview.NGLWidget()\n",
    "clear_output()"
   ]
  },
  {
   "cell_type": "code",
   "execution_count": null,
   "metadata": {},
   "outputs": [],
   "source": [
    "def refresh_structure_view():\n",
    "    global viewer, atoms\n",
    "    if hasattr(viewer, \"component_0\"):\n",
    "        #viewer.clear_representations()\n",
    "        viewer.component_0.remove_ball_and_stick()\n",
    "        viewer.component_0.remove_ball_and_stick()\n",
    "        viewer.component_0.remove_ball_and_stick()\n",
    "        viewer.component_0.remove_unitcell()\n",
    "        cid = viewer.component_0.id\n",
    "        viewer.remove_component(cid)\n",
    "\n",
    "    viewer.add_component(nglview.ASEStructure(atoms)) # adds ball+stick\n",
    "    viewer.add_unitcell()\n",
    "    viewer.center()"
   ]
  },
  {
   "cell_type": "markdown",
   "metadata": {},
   "source": [
    "## Step 1: Upload file"
   ]
  },
  {
   "cell_type": "code",
   "execution_count": null,
   "metadata": {},
   "outputs": [],
   "source": [
    "def on_click_button(c):\n",
    "    global atoms\n",
    "    with store_out:\n",
    "        try:\n",
    "            atoms  = bulk(inp_elements.value, cubic=True)\n",
    "        except:\n",
    "            query_message.value = \"Error\"\n",
    "            cell_params.value = \"Error\"\n",
    "            return\n",
    "        cell_params.value = \"Unit cell <br />a = {} {} {} <br />b = {} {} {} <br />c = {} {} {}\".format(\n",
    "            atoms.cell[0][0], atoms.cell[0][1], atoms.cell[0][2],\n",
    "            atoms.cell[1][0], atoms.cell[1][1], atoms.cell[1][2],\n",
    "            atoms.cell[2][0], atoms.cell[2][1], atoms.cell[2][2])\n",
    "        query_message.value = \"Ta-da\"\n",
    "        formula = atoms.get_chemical_formula()\n",
    "        refresh_structure_view()\n",
    "\n",
    "\n",
    "inp_elements = ipw.Text(description=\"\", value=\"Cu\", placeholder='e.g.: Ni', layout=layout, style=style)\n",
    "btn_query = ipw.Button(description='Select element')\n",
    "btn_query.on_click(on_click_button)\n",
    "query_message = ipw.HTML(\"You did not select any element\")\n",
    "cell_params = ipw.HTML(\"Hello\")\n",
    "store_out = ipw.Output()\n",
    "\n",
    "\n",
    "\n",
    "display(ipw.HBox([btn_query, inp_elements]), query_message, cell_params, ipw.VBox([viewer]))"
   ]
  },
  {
   "cell_type": "code",
   "execution_count": null,
   "metadata": {},
   "outputs": [],
   "source": [
    "def on_click_store(b):\n",
    "    global atoms\n",
    "    with store_out:\n",
    "        clear_output()\n",
    "        #AiiDA requires structures to have cell\n",
    "        if np.all(atoms.cell == 0.0):\n",
    "            atoms.center(vacuum=0.1)\n",
    "        s = StructureData(ase=atoms)\n",
    "        # ensure that tags got correctly translated into kinds \n",
    "        for t1, k in zip(atoms.get_tags(), s.get_site_kindnames()):\n",
    "            t2 = int(k[-1]) if k[-1].isnumeric() else 0\n",
    "            assert t1==t2\n",
    "        s.description = inp_descr.value\n",
    "        s.store()\n",
    "        print(\"Stored in AiiDA: \"+repr(s))\n",
    "\n",
    "inp_descr = ipw.Text(placeholder=\"Description (optional)\")   \n",
    "btn_store = ipw.Button(description='Store in AiiDA')\n",
    "btn_store.on_click(on_click_store)\n",
    "store_out = ipw.Output()\n",
    "display(ipw.HBox([btn_store, inp_descr]), store_out)"
   ]
  },
  {
   "cell_type": "markdown",
   "metadata": {},
   "source": [
    "## Step 1: Optimize the unit cell"
   ]
  },
  {
   "cell_type": "code",
   "execution_count": null,
   "metadata": {},
   "outputs": [],
   "source": [
    "from aiida.orm import load_node, Code\n",
    "from aiida.orm.data.parameter import ParameterData\n",
    "from aiida.orm.data.upf import get_pseudos_from_structure\n",
    "from aiida.orm.utils import CalculationFactory\n",
    "from aiida.work.run import submit\n",
    "from aiida.orm.data.array.kpoints import KpointsData\n"
   ]
  },
  {
   "cell_type": "code",
   "execution_count": null,
   "metadata": {},
   "outputs": [],
   "source": [
    "def setup_calc():\n",
    "    kpoints = KpointsData()\n",
    "    kpoints.set_kpoints_mesh([4,4,4])\n",
    "    codename = 'pw-6.1@daint-s746'\n",
    "    code = Code.get_from_string(codename)\n",
    "    structure = StructureData(ase=atoms)\n",
    "    options =  {'max_wallclock_seconds': 3600, 'resources': {'num_machines': 1}, 'queue_name':'low'}\n",
    "\n",
    "\n",
    "    parameters = {\n",
    "        'CONTROL': {\n",
    "            'calculation': 'vc-relax',\n",
    "            'restart_mode': 'from_scratch',\n",
    "            'wf_collect': True,\n",
    "            'scf_must_converge': False,\n",
    "        },\n",
    "        'SYSTEM': {\n",
    "            'ecutwfc': 100.,\n",
    "            'ecutrho': 400.,\n",
    "        },\n",
    "        'ELECTRONS': {\n",
    "            'conv_thr': 1.e-6,\n",
    "        },\n",
    "    }\n",
    "\n",
    "    inputs = {\n",
    "        'code': code,\n",
    "        'structure': structure,\n",
    "        'pseudo': get_pseudos_from_structure(structure, 'SSSP_efficiency_v1.0'),\n",
    "        'kpoints': kpoints,\n",
    "        'parameters': ParameterData(dict=parameters),\n",
    "        'settings': ParameterData(dict={}),\n",
    "        '_options': options,\n",
    "    }\n",
    "    return inputs"
   ]
  },
  {
   "cell_type": "code",
   "execution_count": null,
   "metadata": {},
   "outputs": [],
   "source": [
    "PwCalculation = CalculationFactory('quantumespresso.pw')"
   ]
  },
  {
   "cell_type": "code",
   "execution_count": null,
   "metadata": {},
   "outputs": [],
   "source": [
    "def on_click_submit(b):\n",
    "    with sumbmit_out:\n",
    "        process = PwCalculation.process()\n",
    "        calculation = submit(process, **setup_calc())\n",
    "        print(calculation)\n",
    "\n",
    "btn_submit = ipw.Button(description='Submit Cell Opt')\n",
    "btn_submit.on_click(on_click_submit)\n",
    "submit_out = ipw.Output()\n",
    "display(btn_submit)"
   ]
  }
 ],
 "metadata": {
  "kernelspec": {
   "display_name": "Python 2",
   "language": "python",
   "name": "python2"
  },
  "language_info": {
   "codemirror_mode": {
    "name": "ipython",
    "version": 2
   },
   "file_extension": ".py",
   "mimetype": "text/x-python",
   "name": "python",
   "nbconvert_exporter": "python",
   "pygments_lexer": "ipython2",
   "version": "2.7.14"
  }
 },
 "nbformat": 4,
 "nbformat_minor": 2
}
